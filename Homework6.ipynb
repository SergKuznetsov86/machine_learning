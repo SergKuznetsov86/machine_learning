{
 "cells": [
  {
   "cell_type": "markdown",
   "metadata": {},
   "source": [
    "# Домашнее задание № 6"
   ]
  },
  {
   "cell_type": "markdown",
   "metadata": {},
   "source": [
    "### Автор: Кузнецов С.И."
   ]
  },
  {
   "cell_type": "code",
   "execution_count": 1,
   "metadata": {},
   "outputs": [],
   "source": [
    "import pandas as pd\n",
    "import numpy as np\n",
    "from sklearn.datasets import load_iris\n",
    "from sklearn import metrics\n",
    "from matplotlib import pyplot as plt\n",
    "%matplotlib inline"
   ]
  },
  {
   "cell_type": "code",
   "execution_count": 2,
   "metadata": {},
   "outputs": [],
   "source": [
    "def get_dataset(iris_classes = None):\n",
    "    '''\n",
    "    Возвращает датасет iris.\n",
    "    \n",
    "    iris_classes - классы ириса, которые будут присутствовать в датасете.\n",
    "    По умолчанию возвращает весь датасет iris.\n",
    "    \n",
    "    Примеры:\n",
    "    \n",
    "    set(get_dataset().target) # => {'setosa', 'versicolor', 'virginica'}\n",
    "    \n",
    "    set(get_dataset(iris_classes = {'versicolor', 'virginica'}).target)  # => {'versicolor', 'virginica'}\n",
    "    \n",
    "    '''\n",
    "    \n",
    "    iris = load_iris()\n",
    "    \n",
    "    X = pd.DataFrame(iris.data, columns = iris.feature_names)\n",
    "    X['target'] = [iris.target_names[f] for f in iris.target]\n",
    "    if iris_classes:\n",
    "        X = X[X.target.isin(iris_classes)].reset_index().drop('index', axis = 1)\n",
    "    \n",
    "    return X"
   ]
  },
  {
   "cell_type": "code",
   "execution_count": 3,
   "metadata": {},
   "outputs": [],
   "source": [
    "def train_test_split(X, test_part = 0.5):\n",
    "    '''\n",
    "    Разбивает выборку на тренировочную и тестовую.\n",
    "    '''\n",
    "    test_ind = set(np.random.choice(X.index, size = round(X.shape[0] * test_part)))\n",
    "    return X.loc[set(X.index) - test_ind], X.loc[test_ind]"
   ]
  },
  {
   "cell_type": "markdown",
   "metadata": {},
   "source": [
    "Загружаем датасет в формате pandas.DataFrame"
   ]
  },
  {
   "cell_type": "code",
   "execution_count": 4,
   "metadata": {},
   "outputs": [
    {
     "data": {
      "text/html": [
       "<div>\n",
       "<style scoped>\n",
       "    .dataframe tbody tr th:only-of-type {\n",
       "        vertical-align: middle;\n",
       "    }\n",
       "\n",
       "    .dataframe tbody tr th {\n",
       "        vertical-align: top;\n",
       "    }\n",
       "\n",
       "    .dataframe thead th {\n",
       "        text-align: right;\n",
       "    }\n",
       "</style>\n",
       "<table border=\"1\" class=\"dataframe\">\n",
       "  <thead>\n",
       "    <tr style=\"text-align: right;\">\n",
       "      <th></th>\n",
       "      <th>sepal length (cm)</th>\n",
       "      <th>sepal width (cm)</th>\n",
       "      <th>petal length (cm)</th>\n",
       "      <th>petal width (cm)</th>\n",
       "      <th>target</th>\n",
       "    </tr>\n",
       "  </thead>\n",
       "  <tbody>\n",
       "    <tr>\n",
       "      <th>0</th>\n",
       "      <td>7.0</td>\n",
       "      <td>3.2</td>\n",
       "      <td>4.7</td>\n",
       "      <td>1.4</td>\n",
       "      <td>versicolor</td>\n",
       "    </tr>\n",
       "    <tr>\n",
       "      <th>1</th>\n",
       "      <td>6.4</td>\n",
       "      <td>3.2</td>\n",
       "      <td>4.5</td>\n",
       "      <td>1.5</td>\n",
       "      <td>versicolor</td>\n",
       "    </tr>\n",
       "    <tr>\n",
       "      <th>2</th>\n",
       "      <td>6.9</td>\n",
       "      <td>3.1</td>\n",
       "      <td>4.9</td>\n",
       "      <td>1.5</td>\n",
       "      <td>versicolor</td>\n",
       "    </tr>\n",
       "    <tr>\n",
       "      <th>3</th>\n",
       "      <td>5.5</td>\n",
       "      <td>2.3</td>\n",
       "      <td>4.0</td>\n",
       "      <td>1.3</td>\n",
       "      <td>versicolor</td>\n",
       "    </tr>\n",
       "    <tr>\n",
       "      <th>4</th>\n",
       "      <td>6.5</td>\n",
       "      <td>2.8</td>\n",
       "      <td>4.6</td>\n",
       "      <td>1.5</td>\n",
       "      <td>versicolor</td>\n",
       "    </tr>\n",
       "  </tbody>\n",
       "</table>\n",
       "</div>"
      ],
      "text/plain": [
       "   sepal length (cm)  sepal width (cm)  petal length (cm)  petal width (cm)  \\\n",
       "0                7.0               3.2                4.7               1.4   \n",
       "1                6.4               3.2                4.5               1.5   \n",
       "2                6.9               3.1                4.9               1.5   \n",
       "3                5.5               2.3                4.0               1.3   \n",
       "4                6.5               2.8                4.6               1.5   \n",
       "\n",
       "       target  \n",
       "0  versicolor  \n",
       "1  versicolor  \n",
       "2  versicolor  \n",
       "3  versicolor  \n",
       "4  versicolor  "
      ]
     },
     "execution_count": 4,
     "metadata": {},
     "output_type": "execute_result"
    }
   ],
   "source": [
    "df = get_dataset(iris_classes = {'versicolor', 'virginica'})\n",
    "df.head()"
   ]
  },
  {
   "cell_type": "markdown",
   "metadata": {},
   "source": [
    "Разобьем выборку на обучающую и тестовую"
   ]
  },
  {
   "cell_type": "code",
   "execution_count": 5,
   "metadata": {},
   "outputs": [],
   "source": [
    "df_train, df_test = train_test_split(df, test_part=0.2)"
   ]
  },
  {
   "cell_type": "markdown",
   "metadata": {},
   "source": [
    "## Реализуем метод градиентного спуска"
   ]
  },
  {
   "cell_type": "code",
   "execution_count": 6,
   "metadata": {},
   "outputs": [],
   "source": [
    "def logistic_function(features, weigths):\n",
    "    '''\n",
    "    Логистическая функция.\n",
    "    features - значения фичей,\n",
    "    weigths - значения весов.\n",
    "    '''\n",
    "    return 1 / (1 + np.exp(-np.dot(features, weigths)))"
   ]
  },
  {
   "cell_type": "code",
   "execution_count": 7,
   "metadata": {},
   "outputs": [],
   "source": [
    "def get_features(X, i):\n",
    "    '''\n",
    "    Возвращает набор фичей в виде массива для элемента с индексом i.\n",
    "    Первый элемен всегда равен 1\n",
    "    '''\n",
    "    return(np.append([1], X.loc[i][:-1]).astype(float))"
   ]
  },
  {
   "cell_type": "code",
   "execution_count": 8,
   "metadata": {},
   "outputs": [],
   "source": [
    "def get_target(X, i):\n",
    "    '''\n",
    "    Возвращает целевую переменную для элемента с индексом i.\n",
    "    Если X[target] = 'versicolor', возвращает 1. В противном случае - 0\n",
    "    '''\n",
    "    return 1 if X.loc[i][-1] == 'versicolor' else 0"
   ]
  },
  {
   "cell_type": "markdown",
   "metadata": {},
   "source": [
    "Определим функцию потерь как:\n",
    "$$\n",
    "J(x) = \\frac{1}{2m}\\sum\\limits_{i=1}^{m}\\left(h_{\\theta}\\left(x^{(i)}\\right) - y^{(i)}\\right)^2\n",
    "$$\n",
    "(см. https://www.internalpointers.com/post/cost-function-logistic-regression)\n",
    "\n",
    "где\n",
    "$$\n",
    "h_{\\theta}(x)=\\frac{1}{1 + e^{-\\theta x}},\n",
    "$$\n",
    "$\\theta$ - вектор весов:\n",
    "$$\n",
    "{\\theta} = [\\theta_0, \\theta_1, \\ldots, \\theta_n]\n",
    "$$\n",
    "$x$ - вектор фичей:\n",
    "$$\n",
    "\\left[\n",
    "\\begin{array}{c}\n",
    "1\\\\\n",
    "x_1\\\\\n",
    "\\ldots\\\\\n",
    "x_n\n",
    "\\end{array}\n",
    "\\right]\n",
    "$$\n",
    "\n",
    "Частная производная функции потерь будет равна:\n",
    "$$\n",
    "\\frac{\\partial}{\\partial \\theta_j}J(x) = \\frac{1}{2}\\sum\\limits_{i=1}^{m}\\left(h_{\\theta}\\left(x^{(i)}\\right) - y^{(i)}\\right)x_j^{(i)}\n",
    "$$\n",
    "\n"
   ]
  },
  {
   "cell_type": "code",
   "execution_count": 9,
   "metadata": {},
   "outputs": [],
   "source": [
    "def cost_function(X, weigths):\n",
    "    '''\n",
    "    Функция потерь.\n",
    "    X - исходный датасет,\n",
    "    weigths - веса\n",
    "    target - целевая фича\n",
    "    '''\n",
    "    total_cost = 0\n",
    "    for i in X.index:\n",
    "        total_cost += (logistic_function(get_features(X, i), weigths) - get_target(X, i)) ** 2\n",
    "        \n",
    "    return total_cost / (2 * X.shape[0])"
   ]
  },
  {
   "cell_type": "code",
   "execution_count": 10,
   "metadata": {},
   "outputs": [],
   "source": [
    "def grad_cost_function(X, weigths):\n",
    "    '''\n",
    "    Градиент функции потерь.\n",
    "    Функция потерь.\n",
    "    X - исходный датасет,\n",
    "    weigths - веса\n",
    "    target - целевая фича\n",
    "    '''\n",
    "    grad_weigths = np.zeros_like(weigths)\n",
    "    for i in X.index:\n",
    "        features = get_features(X, i)\n",
    "        target = get_target(X, i)\n",
    "        for j in range(len(grad_weigths)):\n",
    "            features = get_features(X, i)\n",
    "            grad_weigths[j] += (logistic_function(features, weigths) - target) * features[j]\n",
    "    \n",
    "    return grad_weigths / X.shape[0]"
   ]
  },
  {
   "cell_type": "markdown",
   "metadata": {},
   "source": [
    "Обучение модели"
   ]
  },
  {
   "cell_type": "code",
   "execution_count": 11,
   "metadata": {},
   "outputs": [
    {
     "name": "stdout",
     "output_type": "stream",
     "text": [
      "0:0.2533492636644367:[0.44818377 0.15711946 0.34614347 0.21113904 0.39597396]\n",
      "10:0.11751275288109397:[ 0.42788315 -0.11617611  0.23773707 -0.20326748  0.18938241]\n",
      "20:0.10810437827805792:[ 0.46470856 -0.02105967  0.29546072 -0.31782014  0.08685092]\n",
      "30:0.09989693983325879:[ 0.49937208  0.06574698  0.34863305 -0.42845466 -0.01150193]\n",
      "40:0.09263801295040046:[ 0.53232637  0.14672611  0.39847732 -0.53390299 -0.10540601]\n",
      "50:0.08620576683851604:[ 0.56380677  0.22300305  0.44558385 -0.63395673 -0.19495586]\n",
      "60:0.08050076697535126:[ 0.59395951  0.29515826  0.49028468 -0.72881441 -0.28038213]\n",
      "70:0.07543472324203614:[ 0.62289341  0.36355816  0.53280535 -0.81881093 -0.36195629]\n",
      "80:0.07092862480420334:[ 0.65070149  0.42849451  0.57332927 -0.90430167 -0.43994903]\n",
      "90:0.06691211961643116:[ 0.67746803  0.49022836  0.61201886 -0.98562494 -0.51461635]\n",
      "100:0.06332317017275597:[ 0.70327014  0.54899952  0.6490208  -1.06309389 -0.58619623]\n"
     ]
    }
   ],
   "source": [
    "weigths = np.ones((5,)) * 0.5\n",
    "alpha = 0.1\n",
    "gd_cost = []  # Значение функции потерь на каждой эпохе обучения методом градиентного спуска\n",
    "for epoch in range(101):\n",
    "    weigths += -grad_cost_function(df_train, weigths) * alpha\n",
    "    gd_cost.append(cost_function(df_train, weigths))\n",
    "    if epoch % 10 == 0:\n",
    "        print('{}:{}:{}'.format(epoch, gd_cost[-1], weigths))"
   ]
  },
  {
   "cell_type": "code",
   "execution_count": 12,
   "metadata": {},
   "outputs": [
    {
     "data": {
      "text/plain": [
       "array([ 0.70327014,  0.54899952,  0.6490208 , -1.06309389, -0.58619623])"
      ]
     },
     "execution_count": 12,
     "metadata": {},
     "output_type": "execute_result"
    }
   ],
   "source": [
    "weigths"
   ]
  },
  {
   "cell_type": "code",
   "execution_count": 13,
   "metadata": {},
   "outputs": [],
   "source": [
    "def get_score(s, weigths):\n",
    "    return(logistic_function(np.append([1], s[:4]).astype(float), weigths))"
   ]
  },
  {
   "cell_type": "code",
   "execution_count": 14,
   "metadata": {},
   "outputs": [],
   "source": [
    "y_score = df_test.apply(get_score, axis = 1, weigths = weigths)\n",
    "y_target = df_test.target.apply(lambda x: 1 if x == 'versicolor' else 0)"
   ]
  },
  {
   "cell_type": "code",
   "execution_count": 15,
   "metadata": {},
   "outputs": [],
   "source": [
    "fpr, tpr, thresholds = metrics.roc_curve(y_target, y_score)"
   ]
  },
  {
   "cell_type": "code",
   "execution_count": 16,
   "metadata": {},
   "outputs": [
    {
     "data": {
      "text/plain": [
       "[<matplotlib.lines.Line2D at 0x7fc46372a7b8>]"
      ]
     },
     "execution_count": 16,
     "metadata": {},
     "output_type": "execute_result"
    },
    {
     "data": {
      "image/png": "[encoded data removed]",
      "text/plain": [
       "<Figure size 432x288 with 1 Axes>"
      ]
     },
     "metadata": {
      "needs_background": "light"
     },
     "output_type": "display_data"
    }
   ],
   "source": [
    "plt.plot(fpr, tpr)"
   ]
  },
  {
   "cell_type": "code",
   "execution_count": 17,
   "metadata": {},
   "outputs": [
    {
     "name": "stdout",
     "output_type": "stream",
     "text": [
      "GINI: 0.9773\n"
     ]
    }
   ],
   "source": [
    "print('GINI: {:.4f}'.format(2 * metrics.roc_auc_score(y_target, y_score) - 1))"
   ]
  },
  {
   "cell_type": "markdown",
   "metadata": {},
   "source": [
    "## Реализуем метод nesterov momentum"
   ]
  },
  {
   "cell_type": "markdown",
   "metadata": {},
   "source": [
    "Реализуем алгоритм поиска локального минимума следующим образом:\n",
    "$$\n",
    "\\theta = \\theta - v_t\n",
    "$$\n",
    "где\n",
    "$$\n",
    "v_t = \\gamma v_{t-1} - \\eta \\nabla_\\theta J(\\theta)\n",
    "$$\n",
    "см. https://habr.com/ru/post/318970/"
   ]
  },
  {
   "cell_type": "code",
   "execution_count": 18,
   "metadata": {},
   "outputs": [],
   "source": [
    "weigths = np.ones((5,))*0.5\n",
    "v = np.zeros_like(weigths)\n",
    "gamma = 0.9\n",
    "eta = 0.1\n",
    "nesterov_cost = []  # Значение функции потерь на каждой эпохе обучения методом Нестерова"
   ]
  },
  {
   "cell_type": "code",
   "execution_count": 19,
   "metadata": {},
   "outputs": [
    {
     "name": "stdout",
     "output_type": "stream",
     "text": [
      "0:0.2533492636644367:[0.44818377 0.15711946 0.34614347 0.21113904 0.39597396]\n",
      "10:0.19441313703879576:[ 0.54404447  0.02027869  0.38986608 -0.84839122 -0.26051699]\n",
      "20:0.09756305907357253:[ 0.85132264  0.79651684  0.89751004 -1.70853051 -1.02754858]\n",
      "30:0.05267694884887267:[ 1.11246899  1.39564686  1.29191066 -2.45299388 -1.70801485]\n",
      "40:0.024254197719507195:[ 1.31934438  1.87235262  1.59471053 -2.88921347 -2.17843532]\n",
      "50:0.02195068610352202:[ 1.46559696  2.1316672   1.77638677 -3.20948591 -2.52717157]\n",
      "60:0.020182800057666293:[ 1.5780782   2.27885334  1.89527579 -3.45395242 -2.79935494]\n",
      "70:0.019037634956526633:[ 1.67930358  2.41536731  2.00314732 -3.61636203 -3.01338505]\n",
      "80:0.018301328419451073:[ 1.769642    2.52076909  2.09311768 -3.75096733 -3.19891586]\n",
      "90:0.017657291919612586:[ 1.85158713  2.59879395  2.16805855 -3.8742901  -3.36759368]\n",
      "100:0.01714871485242114:[ 1.93099159  2.68001387  2.2425563  -3.97254947 -3.51812345]\n"
     ]
    }
   ],
   "source": [
    "for epoch in range(101):\n",
    "    v = gamma * v - eta * grad_cost_function(df_train, weigths)\n",
    "    weigths += v\n",
    "    nesterov_cost.append(cost_function(df_train, weigths))\n",
    "    if epoch % 10 == 0:\n",
    "        print('{}:{}:{}'.format(epoch, nesterov_cost[-1], weigths))"
   ]
  },
  {
   "cell_type": "code",
   "execution_count": 20,
   "metadata": {},
   "outputs": [],
   "source": [
    "y_score = df_test.apply(get_score, axis = 1, weigths = weigths)\n",
    "y_target = df_test.target.apply(lambda x: 1 if x == 'versicolor' else 0)"
   ]
  },
  {
   "cell_type": "code",
   "execution_count": 21,
   "metadata": {},
   "outputs": [],
   "source": [
    "fpr, tpr, thresholds = metrics.roc_curve(y_target, y_score)"
   ]
  },
  {
   "cell_type": "code",
   "execution_count": 22,
   "metadata": {},
   "outputs": [
    {
     "data": {
      "text/plain": [
       "[<matplotlib.lines.Line2D at 0x7fc4636ed208>]"
      ]
     },
     "execution_count": 22,
     "metadata": {},
     "output_type": "execute_result"
    },
    {
     "data": {
      "image/png": "[encoded data removed]",
      "text/plain": [
       "<Figure size 432x288 with 1 Axes>"
      ]
     },
     "metadata": {
      "needs_background": "light"
     },
     "output_type": "display_data"
    }
   ],
   "source": [
    "plt.plot(fpr, tpr)"
   ]
  },
  {
   "cell_type": "code",
   "execution_count": 23,
   "metadata": {},
   "outputs": [
    {
     "name": "stdout",
     "output_type": "stream",
     "text": [
      "GINI: 1.0000\n"
     ]
    }
   ],
   "source": [
    "print('GINI: {:.4f}'.format(2 * metrics.roc_auc_score(y_target, y_score) - 1))"
   ]
  },
  {
   "cell_type": "markdown",
   "metadata": {},
   "source": [
    "## Реализуем метод rmsprop"
   ]
  },
  {
   "cell_type": "markdown",
   "metadata": {},
   "source": [
    "Реализуем следующий алгоритм:\n",
    "$$\n",
    "\\theta_{t+1} = \\theta_t - \\frac{\\eta}{\\sqrt{E[g^2]_t + \\epsilon}}g_t,\n",
    "$$\n",
    "где\n",
    "$$\n",
    "E[g^2]_t = \\gamma E[g^2]_{t-1} + (1-\\gamma)g_t^2\n",
    "$$\n",
    "см. https://habr.com/ru/post/318970/"
   ]
  },
  {
   "cell_type": "code",
   "execution_count": 24,
   "metadata": {},
   "outputs": [],
   "source": [
    "weigths = np.ones((5,)) * 0.5\n",
    "grd = grad_cost_function(df_train, weigths)\n",
    "gamma = 0.9\n",
    "E_g_square = (1 - gamma) * np.dot(grd, grd)\n",
    "eta = 0.1\n",
    "epsilon = 0.00001\n",
    "rmsprop_cost = []  # Значение функции потерь на каждой эпохе обучения методом rmsprop"
   ]
  },
  {
   "cell_type": "code",
   "execution_count": 25,
   "metadata": {},
   "outputs": [
    {
     "name": "stdout",
     "output_type": "stream",
     "text": [
      "0:0.25867346352412846:[0.47564262 0.33882134 0.4276763  0.36421445 0.45110024]\n",
      "10:0.12410515210009042:[ 0.40322982 -0.17418527  0.20077295 -0.11193471  0.26592906]\n",
      "20:0.11839162499493078:[ 0.42447772 -0.12060189  0.23374585 -0.18241162  0.20451184]\n",
      "30:0.10958818649042705:[ 0.45882056 -0.03455902  0.28667153 -0.29540743  0.10552526]\n",
      "40:0.09703101933574265:[ 0.51216056  0.09740021  0.36790826 -0.46875961 -0.04756484]\n",
      "50:0.08127213574241654:[ 0.58975359  0.28518318  0.48394662 -0.71563126 -0.26843258]\n",
      "60:0.08786456508417198:[ 0.69186364  0.56792297  0.6490515  -0.94245737 -0.50558591]\n",
      "70:0.06389589639724114:[ 0.71430988  0.58861796  0.67054197 -1.06928922 -0.60083737]\n",
      "80:0.060744973873117614:[ 0.74667653  0.66400207  0.71791094 -1.16004064 -0.6867424 ]\n",
      "90:0.06009882290794603:[ 0.7793015   0.74320689  0.76667977 -1.24167432 -0.7681183 ]\n",
      "100:0.05602503959934757:[ 0.80861392  0.8050615   0.80715808 -1.32955866 -0.84948485]\n"
     ]
    }
   ],
   "source": [
    "for epoch in range(101):\n",
    "    grd = grad_cost_function(df_train, weigths)\n",
    "    E_g_square = gamma * E_g_square + (1 - gamma) * np.dot(grd, grd)\n",
    "    weigths -= eta * grd / np.sqrt(E_g_square + epsilon)\n",
    "    rmsprop_cost.append(cost_function(df_train, weigths))\n",
    "    if epoch % 10 == 0:\n",
    "        print('{}:{}:{}'.format(epoch, rmsprop_cost[-1], weigths))"
   ]
  },
  {
   "cell_type": "code",
   "execution_count": 26,
   "metadata": {},
   "outputs": [],
   "source": [
    "y_score = df_test.apply(get_score, axis = 1, weigths = weigths)\n",
    "y_target = df_test.target.apply(lambda x: 1 if x == 'versicolor' else 0)"
   ]
  },
  {
   "cell_type": "code",
   "execution_count": 27,
   "metadata": {},
   "outputs": [],
   "source": [
    "fpr, tpr, thresholds = metrics.roc_curve(y_target, y_score)"
   ]
  },
  {
   "cell_type": "code",
   "execution_count": 28,
   "metadata": {},
   "outputs": [
    {
     "data": {
      "text/plain": [
       "[<matplotlib.lines.Line2D at 0x7fc46167f4a8>]"
      ]
     },
     "execution_count": 28,
     "metadata": {},
     "output_type": "execute_result"
    },
    {
     "data": {
      "image/png": "[encoded data removed]",
      "text/plain": [
       "<Figure size 432x288 with 1 Axes>"
      ]
     },
     "metadata": {
      "needs_background": "light"
     },
     "output_type": "display_data"
    }
   ],
   "source": [
    "plt.plot(fpr, tpr)"
   ]
  },
  {
   "cell_type": "code",
   "execution_count": 29,
   "metadata": {},
   "outputs": [
    {
     "name": "stdout",
     "output_type": "stream",
     "text": [
      "GINI: 1.0000\n"
     ]
    }
   ],
   "source": [
    "print('GINI: {:.4f}'.format(2 * metrics.roc_auc_score(y_target, y_score) - 1))"
   ]
  },
  {
   "cell_type": "markdown",
   "metadata": {},
   "source": [
    "## Сравним методы оптимизации по скорости сходимости"
   ]
  },
  {
   "cell_type": "code",
   "execution_count": 30,
   "metadata": {},
   "outputs": [
    {
     "data": {
      "image/png": "[encoded data removed]",
      "text/plain": [
       "<Figure size 864x504 with 1 Axes>"
      ]
     },
     "metadata": {
      "needs_background": "light"
     },
     "output_type": "display_data"
    }
   ],
   "source": [
    "plt.figure(figsize=(12, 7))\n",
    "\n",
    "plt.plot(np.arange(101), gd_cost)\n",
    "plt.plot(np.arange(101), nesterov_cost)\n",
    "plt.plot(np.arange(101), rmsprop_cost)\n",
    "\n",
    "plt.grid()\n",
    "\n",
    "plt.legend(['Градиентный спуск', 'Метод Нестерова', 'RMSProp'])\n",
    "plt.xlabel('Номер эпохи обучения')\n",
    "plt.ylabel('Значение функции потерь')\n",
    "\n",
    "plt.title('Сравнение методов оптимизации', fontsize=14)\n",
    "\n",
    "plt.show()"
   ]
  },
  {
   "cell_type": "markdown",
   "metadata": {},
   "source": [
    "## Выводы"
   ]
  },
  {
   "cell_type": "markdown",
   "metadata": {},
   "source": [
    " * Быстрее всего на данной выборке сходится метод Нестерова.\n",
    " * Метод RMSProp сходится немонотонно, но все же быстрее, чем градиентный спуск"
   ]
  }
 ],
 "metadata": {
  "kernelspec": {
   "display_name": "Python 3",
   "language": "python",
   "name": "python3"
  },
  "language_info": {
   "codemirror_mode": {
    "name": "ipython",
    "version": 3
   },
   "file_extension": ".py",
   "mimetype": "text/x-python",
   "name": "python",
   "nbconvert_exporter": "python",
   "pygments_lexer": "ipython3",
   "version": "3.7.3"
  }
 },
 "nbformat": 4,
 "nbformat_minor": 2
}
