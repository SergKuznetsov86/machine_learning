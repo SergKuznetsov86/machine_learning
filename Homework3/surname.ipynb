{
 "cells": [
  {
   "cell_type": "markdown",
   "metadata": {},
   "source": [
    "# Домашнее задние № 3, ч.1"
   ]
  },
  {
   "cell_type": "markdown",
   "metadata": {},
   "source": [
    "### Выполнил: Кузнецов С.И."
   ]
  },
  {
   "cell_type": "markdown",
   "metadata": {},
   "source": [
    "Необходимо для каждой распознанной фамилии вывести на экран наиболее подходящий вариант из стартового протокола"
   ]
  },
  {
   "cell_type": "code",
   "execution_count": 1,
   "metadata": {},
   "outputs": [],
   "source": [
    "import Levenshtein\n",
    "import numpy as np"
   ]
  },
  {
   "cell_type": "code",
   "execution_count": 2,
   "metadata": {},
   "outputs": [],
   "source": [
    "# что было написано в заявке\n",
    "\n",
    "claim_list = [\n",
    "    'Шехавцова Анна',\n",
    "    'Гречихина Наталья',\n",
    "    'Козлова Алена',\n",
    "    'Груздева Алина',\n",
    "    'Кущенко Анна',\n",
    "    'Чистякова Анастасия'\n",
    "]"
   ]
  },
  {
   "cell_type": "code",
   "execution_count": 3,
   "metadata": {},
   "outputs": [],
   "source": [
    "# результат расшифровки речи диктора\n",
    "\n",
    "speech_recognition = [\n",
    "    'кучменко она',\n",
    "    'кущенко оксана',\n",
    "    'груздь алина',\n",
    "    'рычихина наталья',\n",
    "    'шиховцева на',\n",
    "    'чистова анастасия'\n",
    "]"
   ]
  },
  {
   "cell_type": "markdown",
   "metadata": {},
   "source": [
    "Определим расстояние между именами."
   ]
  },
  {
   "cell_type": "code",
   "execution_count": 4,
   "metadata": {},
   "outputs": [],
   "source": [
    "def get_distance(Name1, Name2):\n",
    "    '''\n",
    "    Функция вычисляет расстояние между двумя именами Name1 и Name2.\n",
    "    В качестве расстояния берем среднее расстояние Левинштейна между словами, входящими в Name1 и Name2.\n",
    "    '''\n",
    "    dists = []\n",
    "    for n1, n2 in zip(Name1.lower().split(' '),Name2.lower().split(' ')):\n",
    "        dists.append(Levenshtein.distance(n1, n2))\n",
    "        \n",
    "    return np.average(dists)"
   ]
  },
  {
   "cell_type": "markdown",
   "metadata": {},
   "source": [
    "Создадим функцию, выбирающую наиболее близкое слово из списка."
   ]
  },
  {
   "cell_type": "code",
   "execution_count": 5,
   "metadata": {},
   "outputs": [],
   "source": [
    "def get_nearest_item(word, item, max_distance = None):\n",
    "    '''\n",
    "    Функция вычисляет наиболее близкое имя к слову word из списка item.\n",
    "    Если в списке есть несколько наиболее близких слов, то выбирается то, у которого наиболее близкая фамилия.\n",
    "    '''\n",
    "    # Создадим список пар, вида (\"Элемент списка\": расстояние)\n",
    "    distances = [(el, get_distance(el, word)) for el in item]\n",
    "    distances.sort(key = lambda x: x[1])\n",
    "\n",
    "    # Расстояние до ближайшего элемента в списке\n",
    "    distance = distances[0][1]\n",
    "    if max_distance:\n",
    "        if distance > max_distance:\n",
    "            return '<Не распознано>'\n",
    "\n",
    "    # Список ближайших элементов\n",
    "    nearest_names = [el[0] for el in distances if abs(el[1] - distance) < 1e-7]\n",
    "\n",
    "    if len(nearest_names) == 1:\n",
    "        return nearest_names[0]\n",
    "    return get_nearest_item(word = ' '.join(word.split(' ')[1:]), item = nearest_names)\n",
    "    "
   ]
  },
  {
   "cell_type": "markdown",
   "metadata": {},
   "source": [
    "Каждой фамилии из списка поставим в соответствие наиболее близкую фамилию из протокола"
   ]
  },
  {
   "cell_type": "code",
   "execution_count": 6,
   "metadata": {},
   "outputs": [
    {
     "name": "stdout",
     "output_type": "stream",
     "text": [
      "кучменко она: Кущенко Анна\n",
      "кущенко оксана: Кущенко Анна\n",
      "груздь алина: Груздева Алина\n",
      "рычихина наталья: Гречихина Наталья\n",
      "шиховцева на: Шехавцова Анна\n",
      "чистова анастасия: Чистякова Анастасия\n"
     ]
    }
   ],
   "source": [
    "for speech_name in speech_recognition:\n",
    "    print('{}: {}'.format(speech_name, get_nearest_item(speech_name, claim_list)))"
   ]
  },
  {
   "cell_type": "markdown",
   "metadata": {},
   "source": [
    "Имя \"кущенко оксана\" было распознано как \"Кущенко Анна\", поскольку Оксан в протокольном списке не было. \n",
    "Была Козлова Алена, которую не назвали. \n",
    "Чтобы избежать ситуации, когда имя не из списка распознается как имя в списке введем максимально домустимое \n",
    "расстояние между именами."
   ]
  },
  {
   "cell_type": "code",
   "execution_count": 7,
   "metadata": {},
   "outputs": [
    {
     "name": "stdout",
     "output_type": "stream",
     "text": [
      "кучменко она: Кущенко Анна\n",
      "кущенко оксана: Кущенко Анна\n",
      "груздь алина: Груздева Алина\n",
      "рычихина наталья: Гречихина Наталья\n",
      "шиховцева на: <Не распознано>\n",
      "чистова анастасия: Чистякова Анастасия\n"
     ]
    }
   ],
   "source": [
    "for speech_name in speech_recognition:\n",
    "    print('{}: {}'.format(speech_name, get_nearest_item(speech_name, claim_list, max_distance = 2)))"
   ]
  },
  {
   "cell_type": "code",
   "execution_count": 8,
   "metadata": {},
   "outputs": [
    {
     "name": "stdout",
     "output_type": "stream",
     "text": [
      "кучменко она: <Не распознано>\n",
      "кущенко оксана: <Не распознано>\n",
      "груздь алина: Груздева Алина\n",
      "рычихина наталья: Гречихина Наталья\n",
      "шиховцева на: <Не распознано>\n",
      "чистова анастасия: Чистякова Анастасия\n"
     ]
    }
   ],
   "source": [
    "for speech_name in speech_recognition:\n",
    "    print('{}: {}'.format(speech_name, get_nearest_item(speech_name, claim_list, max_distance = 1.5)))"
   ]
  },
  {
   "cell_type": "code",
   "execution_count": 9,
   "metadata": {},
   "outputs": [
    {
     "name": "stdout",
     "output_type": "stream",
     "text": [
      "кучменко она: Кущенко Анна\n",
      "кущенко оксана: Кущенко Анна\n",
      "груздь алина: Груздева Алина\n",
      "рычихина наталья: Гречихина Наталья\n",
      "шиховцева на: Шехавцова Анна\n",
      "чистова анастасия: Чистякова Анастасия\n"
     ]
    }
   ],
   "source": [
    "for speech_name in speech_recognition:\n",
    "    print('{}: {}'.format(speech_name, get_nearest_item(speech_name, claim_list, max_distance = 3)))"
   ]
  },
  {
   "cell_type": "markdown",
   "metadata": {},
   "source": [
    "При слишком маленьком значении расстояния не распознается большое количество имен, а при слишком большом возникают ложные распознавания.\n",
    "\n",
    "Чтобы справиться с этой проблемой необходимо либо использовать другую метрику между словами, либо воспользоваться другим методом."
   ]
  }
 ],
 "metadata": {
  "kernelspec": {
   "display_name": "Python 3",
   "language": "python",
   "name": "python3"
  },
  "language_info": {
   "codemirror_mode": {
    "name": "ipython",
    "version": 3
   },
   "file_extension": ".py",
   "mimetype": "text/x-python",
   "name": "python",
   "nbconvert_exporter": "python",
   "pygments_lexer": "ipython3",
   "version": "3.7.3"
  }
 },
 "nbformat": 4,
 "nbformat_minor": 2
}
